{
 "cells": [
  {
   "cell_type": "code",
   "execution_count": 126,
   "metadata": {},
   "outputs": [],
   "source": [
    "import pandas as pd\n",
    "import numpy as np\n",
    "import seaborn as sns\n",
    "import matplotlib.pyplot as plt\n",
    "from sklearn.linear_model import RidgeCV, LassoCV\n",
    "from sklearn.model_selection import train_test_split, cross_val_score\n",
    "from sklearn.preprocessing import StandardScaler, PolynomialFeatures\n",
    "from sklearn.metrics import r2_score, mean_squared_error\n",
    "\n",
    "%matplotlib inline"
   ]
  },
  {
   "cell_type": "code",
   "execution_count": 3,
   "metadata": {},
   "outputs": [],
   "source": [
    "# Reading in model-ready data\n",
    "df = pd.read_csv('datasets/train_model_ready.csv')\n",
    "test = pd.read_csv('datasets/test_model_ready.csv')"
   ]
  },
  {
   "cell_type": "markdown",
   "metadata": {},
   "source": [
    "## Use lasso for feature selection and then test ridge, linear regression, and lasso to test for best performance\n",
    "\n",
    "    I. Polynomial tranformation for feature interpretation\n",
    "    \n",
    "    II. Lasso - Feature selection\n",
    "    \n",
    "    III. Test for best peforming model\n",
    "        1. Lasso\n",
    "        2. Ridge\n",
    "\n",
    "    IV. Summary of model performance\n",
    "\n"
   ]
  },
  {
   "cell_type": "markdown",
   "metadata": {},
   "source": [
    "### I. Polynomial tranformation for feature interpretation"
   ]
  },
  {
   "cell_type": "code",
   "execution_count": 18,
   "metadata": {},
   "outputs": [
    {
     "data": {
      "text/plain": [
       "((879, 285), (2049, 275))"
      ]
     },
     "execution_count": 18,
     "metadata": {},
     "output_type": "execute_result"
    }
   ],
   "source": [
    "features = list(df.drop(labels='saleprice', axis = 1).columns)\n",
    "\n",
    "test_temp = test[features]\n",
    "df_temp = df[features]\n",
    "test.shape , df.shape"
   ]
  },
  {
   "cell_type": "code",
   "execution_count": 19,
   "metadata": {},
   "outputs": [
    {
     "data": {
      "text/plain": [
       "((2049, 37949), (879, 37949))"
      ]
     },
     "execution_count": 19,
     "metadata": {},
     "output_type": "execute_result"
    }
   ],
   "source": [
    "poly = PolynomialFeatures(include_bias=False)\n",
    "df_poly = poly.fit_transform(df_temp)\n",
    "test_poly = poly.transform(test_temp)\n",
    "df_poly.shape , test_poly.shape"
   ]
  },
  {
   "cell_type": "code",
   "execution_count": 20,
   "metadata": {},
   "outputs": [],
   "source": [
    "poly_col_names = poly.get_feature_names(features)\n",
    "df_poly = pd.DataFrame(df_poly, columns = poly_col_names)\n",
    "test_poly = pd.DataFrame(test_poly, columns = poly_col_names)"
   ]
  },
  {
   "cell_type": "code",
   "execution_count": 21,
   "metadata": {},
   "outputs": [],
   "source": [
    "df_poly['saleprice'] = df['saleprice']\n",
    "test_poly['saleprice'] = test['saleprice']"
   ]
  },
  {
   "cell_type": "markdown",
   "metadata": {},
   "source": [
    "   ### II. Building Lasso Regression Model for feature selection"
   ]
  },
  {
   "cell_type": "code",
   "execution_count": 57,
   "metadata": {},
   "outputs": [
    {
     "data": {
      "text/plain": [
       "(1536, 274)"
      ]
     },
     "execution_count": 57,
     "metadata": {},
     "output_type": "execute_result"
    }
   ],
   "source": [
    "X_train.shape"
   ]
  },
  {
   "cell_type": "code",
   "execution_count": 58,
   "metadata": {},
   "outputs": [],
   "source": [
    "features = list(df_poly.drop(labels='saleprice', axis = 1).columns)\n",
    "\n",
    "X = df_poly[features]\n",
    "y = np.log(df_poly['saleprice'])\n",
    "X_train, X_test, y_train, y_test = train_test_split(X, y)"
   ]
  },
  {
   "cell_type": "code",
   "execution_count": 59,
   "metadata": {},
   "outputs": [],
   "source": [
    "pipe = Pipeline([\n",
    "    ('ss', StandardScaler()),\n",
    "    ('lcv', LassoCV(cv = 3, max_iter=10000))\n",
    "])"
   ]
  },
  {
   "cell_type": "code",
   "execution_count": 60,
   "metadata": {},
   "outputs": [
    {
     "data": {
      "text/plain": [
       "Pipeline(memory=None,\n",
       "     steps=[('ss', StandardScaler(copy=True, with_mean=True, with_std=True)), ('lcv', LassoCV(alphas=None, copy_X=True, cv=3, eps=0.001, fit_intercept=True,\n",
       "    max_iter=10000, n_alphas=100, n_jobs=None, normalize=False,\n",
       "    positive=False, precompute='auto', random_state=None,\n",
       "    selection='cyclic', tol=0.0001, verbose=False))])"
      ]
     },
     "execution_count": 60,
     "metadata": {},
     "output_type": "execute_result"
    }
   ],
   "source": [
    "pipe.fit(X_train, y_train)"
   ]
  },
  {
   "cell_type": "code",
   "execution_count": 61,
   "metadata": {},
   "outputs": [
    {
     "name": "stdout",
     "output_type": "stream",
     "text": [
      "Alpha:  0.007645252691695346\n",
      "Alpha range:  0.0003548611952392115 0.35486119523921156\n"
     ]
    }
   ],
   "source": [
    "# Checking alpha range of the model\n",
    "print('Alpha: ', pipe.named_steps['lcv'].alpha_)\n",
    "print('Alpha range: ', min(pipe.named_steps['lcv'].alphas_), max(pipe.named_steps['lcv'].alphas_))"
   ]
  },
  {
   "cell_type": "code",
   "execution_count": 62,
   "metadata": {},
   "outputs": [
    {
     "name": "stdout",
     "output_type": "stream",
     "text": [
      "Test score:  0.9362666314194662\n",
      "Train score:  0.9468761739708879\n"
     ]
    },
    {
     "name": "stderr",
     "output_type": "stream",
     "text": [
      "/Users/dmitriy/anaconda3/lib/python3.6/site-packages/sklearn/model_selection/_split.py:2053: FutureWarning: You should specify a value for 'cv' instead of relying on the default value. The default value will change from 3 to 5 in version 0.22.\n",
      "  warnings.warn(CV_WARNING, FutureWarning)\n"
     ]
    },
    {
     "name": "stdout",
     "output_type": "stream",
     "text": [
      "Cross_Val score:  0.8868571217090597\n"
     ]
    }
   ],
   "source": [
    "# Testing the r^2 of the model\n",
    "print('Test score: ', pipe.score(X_test, y_test))\n",
    "print('Train score: ', pipe.score(X_train, y_train))\n",
    "print('Cross_Val score: ', cross_val_score(pipe, X_train, y_train).mean())"
   ]
  },
  {
   "cell_type": "code",
   "execution_count": 63,
   "metadata": {},
   "outputs": [
    {
     "data": {
      "text/plain": [
       "19736.673966047616"
      ]
     },
     "execution_count": 63,
     "metadata": {},
     "output_type": "execute_result"
    }
   ],
   "source": [
    "# Testing mean squared error\n",
    "preds = np.exp(pipe.predict(X_test))\n",
    "np.sqrt(mean_squared_error(np.exp(y_test), preds))"
   ]
  },
  {
   "cell_type": "code",
   "execution_count": 65,
   "metadata": {},
   "outputs": [
    {
     "data": {
      "text/html": [
       "<div>\n",
       "<style scoped>\n",
       "    .dataframe tbody tr th:only-of-type {\n",
       "        vertical-align: middle;\n",
       "    }\n",
       "\n",
       "    .dataframe tbody tr th {\n",
       "        vertical-align: top;\n",
       "    }\n",
       "\n",
       "    .dataframe thead th {\n",
       "        text-align: right;\n",
       "    }\n",
       "</style>\n",
       "<table border=\"1\" class=\"dataframe\">\n",
       "  <thead>\n",
       "    <tr style=\"text-align: right;\">\n",
       "      <th></th>\n",
       "      <th>id</th>\n",
       "      <th>SalePrice</th>\n",
       "    </tr>\n",
       "  </thead>\n",
       "  <tbody>\n",
       "    <tr>\n",
       "      <th>0</th>\n",
       "      <td>2658</td>\n",
       "      <td>142851.877950</td>\n",
       "    </tr>\n",
       "    <tr>\n",
       "      <th>1</th>\n",
       "      <td>2718</td>\n",
       "      <td>157171.870085</td>\n",
       "    </tr>\n",
       "    <tr>\n",
       "      <th>2</th>\n",
       "      <td>2414</td>\n",
       "      <td>210225.882885</td>\n",
       "    </tr>\n",
       "    <tr>\n",
       "      <th>3</th>\n",
       "      <td>1989</td>\n",
       "      <td>102857.410836</td>\n",
       "    </tr>\n",
       "    <tr>\n",
       "      <th>4</th>\n",
       "      <td>625</td>\n",
       "      <td>171336.499128</td>\n",
       "    </tr>\n",
       "  </tbody>\n",
       "</table>\n",
       "</div>"
      ],
      "text/plain": [
       "     id      SalePrice\n",
       "0  2658  142851.877950\n",
       "1  2718  157171.870085\n",
       "2  2414  210225.882885\n",
       "3  1989  102857.410836\n",
       "4   625  171336.499128"
      ]
     },
     "execution_count": 65,
     "metadata": {},
     "output_type": "execute_result"
    }
   ],
   "source": [
    "# Selecting top features \n",
    "X_final = test_poly[features]\n",
    "\n",
    "test['SalePrice'] = np.exp(pipe.predict(X_final))\n",
    "final = test[['id','SalePrice']]\n",
    "final.to_csv('datasets/lasso_features.csv', index=False)\n",
    "final.head()"
   ]
  },
  {
   "cell_type": "code",
   "execution_count": 66,
   "metadata": {},
   "outputs": [
    {
     "data": {
      "text/plain": [
       "37726"
      ]
     },
     "execution_count": 66,
     "metadata": {},
     "output_type": "execute_result"
    }
   ],
   "source": [
    "sum([i==0 for i in pipe.named_steps['lcv'].coef_])"
   ]
  },
  {
   "cell_type": "code",
   "execution_count": 67,
   "metadata": {},
   "outputs": [
    {
     "data": {
      "text/plain": [
       "37949"
      ]
     },
     "execution_count": 67,
     "metadata": {},
     "output_type": "execute_result"
    }
   ],
   "source": [
    "len(pipe.named_steps['lcv'].coef_)"
   ]
  },
  {
   "cell_type": "code",
   "execution_count": 68,
   "metadata": {},
   "outputs": [
    {
     "data": {
      "text/plain": [
       "0.9941236923239084"
      ]
     },
     "execution_count": 68,
     "metadata": {},
     "output_type": "execute_result"
    }
   ],
   "source": [
    "sum([i==0 for i in pipe.named_steps['lcv'].coef_])/len(pipe.named_steps['lcv'].coef_)"
   ]
  },
  {
   "cell_type": "markdown",
   "metadata": {},
   "source": [
    "    The model removed 99.4% of the features so we are going to only use the variables the model decided to keep"
   ]
  },
  {
   "cell_type": "code",
   "execution_count": 69,
   "metadata": {},
   "outputs": [],
   "source": [
    "coefs = pd.DataFrame({\n",
    "    'variable': X_train.columns,\n",
    "    'coefs': pipe.named_steps['lcv'].coef_\n",
    "})\n",
    "#coefs.sort_values(by= 'coefs').head(10)"
   ]
  },
  {
   "cell_type": "code",
   "execution_count": 70,
   "metadata": {},
   "outputs": [
    {
     "data": {
      "text/html": [
       "<div>\n",
       "<style scoped>\n",
       "    .dataframe tbody tr th:only-of-type {\n",
       "        vertical-align: middle;\n",
       "    }\n",
       "\n",
       "    .dataframe tbody tr th {\n",
       "        vertical-align: top;\n",
       "    }\n",
       "\n",
       "    .dataframe thead th {\n",
       "        text-align: right;\n",
       "    }\n",
       "</style>\n",
       "<table border=\"1\" class=\"dataframe\">\n",
       "  <thead>\n",
       "    <tr style=\"text-align: right;\">\n",
       "      <th></th>\n",
       "      <th>variable</th>\n",
       "      <th>coefs</th>\n",
       "    </tr>\n",
       "  </thead>\n",
       "  <tbody>\n",
       "    <tr>\n",
       "      <th>1409</th>\n",
       "      <td>overall_qual lot_area_log</td>\n",
       "      <td>0.091551</td>\n",
       "    </tr>\n",
       "    <tr>\n",
       "      <th>1953</th>\n",
       "      <td>year_built gr_liv_area_log</td>\n",
       "      <td>0.079870</td>\n",
       "    </tr>\n",
       "    <tr>\n",
       "      <th>1645</th>\n",
       "      <td>overall_cond gr_liv_area</td>\n",
       "      <td>0.037363</td>\n",
       "    </tr>\n",
       "    <tr>\n",
       "      <th>1641</th>\n",
       "      <td>overall_cond total_bsmt_sf</td>\n",
       "      <td>0.029754</td>\n",
       "    </tr>\n",
       "    <tr>\n",
       "      <th>1904</th>\n",
       "      <td>year_built year_remod/add</td>\n",
       "      <td>0.023927</td>\n",
       "    </tr>\n",
       "    <tr>\n",
       "      <th>3717</th>\n",
       "      <td>total_bsmt_sf functional_Typ</td>\n",
       "      <td>0.013607</td>\n",
       "    </tr>\n",
       "    <tr>\n",
       "      <th>12531</th>\n",
       "      <td>lot_area_log gr_liv_area_log</td>\n",
       "      <td>0.013556</td>\n",
       "    </tr>\n",
       "    <tr>\n",
       "      <th>2808</th>\n",
       "      <td>bsmtfin_sf_1 condition_1_Norm</td>\n",
       "      <td>0.013281</td>\n",
       "    </tr>\n",
       "    <tr>\n",
       "      <th>3501</th>\n",
       "      <td>total_bsmt_sf bsmt_full_bath</td>\n",
       "      <td>0.011764</td>\n",
       "    </tr>\n",
       "    <tr>\n",
       "      <th>4569</th>\n",
       "      <td>gr_liv_area years_since_built_sqrt_new</td>\n",
       "      <td>0.010887</td>\n",
       "    </tr>\n",
       "  </tbody>\n",
       "</table>\n",
       "</div>"
      ],
      "text/plain": [
       "                                     variable     coefs\n",
       "1409                overall_qual lot_area_log  0.091551\n",
       "1953               year_built gr_liv_area_log  0.079870\n",
       "1645                 overall_cond gr_liv_area  0.037363\n",
       "1641               overall_cond total_bsmt_sf  0.029754\n",
       "1904                year_built year_remod/add  0.023927\n",
       "3717             total_bsmt_sf functional_Typ  0.013607\n",
       "12531            lot_area_log gr_liv_area_log  0.013556\n",
       "2808            bsmtfin_sf_1 condition_1_Norm  0.013281\n",
       "3501             total_bsmt_sf bsmt_full_bath  0.011764\n",
       "4569   gr_liv_area years_since_built_sqrt_new  0.010887"
      ]
     },
     "execution_count": 70,
     "metadata": {},
     "output_type": "execute_result"
    }
   ],
   "source": [
    "coefs.sort_values(by= 'coefs', ascending= False).head(10)"
   ]
  },
  {
   "cell_type": "code",
   "execution_count": 71,
   "metadata": {},
   "outputs": [],
   "source": [
    "coefs = coefs[abs(coefs['coefs'])!=0]\n",
    "new_features = list(coefs['variable'])"
   ]
  },
  {
   "cell_type": "code",
   "execution_count": 72,
   "metadata": {},
   "outputs": [
    {
     "data": {
      "text/plain": [
       "223"
      ]
     },
     "execution_count": 72,
     "metadata": {},
     "output_type": "execute_result"
    }
   ],
   "source": [
    "len(new_features)"
   ]
  },
  {
   "cell_type": "markdown",
   "metadata": {},
   "source": [
    "### II. 1. Running Lasso Regression Model"
   ]
  },
  {
   "cell_type": "code",
   "execution_count": 81,
   "metadata": {},
   "outputs": [],
   "source": [
    "Xl = df_poly[new_features]\n",
    "yl = np.log(df_poly['saleprice'])\n",
    "X_train_l, X_test_l, y_train_l, y_test_l = train_test_split(Xl, yl)"
   ]
  },
  {
   "cell_type": "code",
   "execution_count": 82,
   "metadata": {},
   "outputs": [],
   "source": [
    "pipe_l = Pipeline([\n",
    "    ('ss', StandardScaler()),\n",
    "    ('lcv', LassoCV(cv = 3, max_iter=10000))\n",
    "])"
   ]
  },
  {
   "cell_type": "code",
   "execution_count": 83,
   "metadata": {},
   "outputs": [
    {
     "data": {
      "text/plain": [
       "Pipeline(memory=None,\n",
       "     steps=[('ss', StandardScaler(copy=True, with_mean=True, with_std=True)), ('lcv', LassoCV(alphas=None, copy_X=True, cv=3, eps=0.001, fit_intercept=True,\n",
       "    max_iter=10000, n_alphas=100, n_jobs=None, normalize=False,\n",
       "    positive=False, precompute='auto', random_state=None,\n",
       "    selection='cyclic', tol=0.0001, verbose=False))])"
      ]
     },
     "execution_count": 83,
     "metadata": {},
     "output_type": "execute_result"
    }
   ],
   "source": [
    "pipe_l.fit(X_train_l, y_train_l)"
   ]
  },
  {
   "cell_type": "code",
   "execution_count": 84,
   "metadata": {},
   "outputs": [
    {
     "name": "stdout",
     "output_type": "stream",
     "text": [
      "Alpha:  0.001981148044683653\n",
      "Alpha range: 0.0003462112472704374 0.3462112472704375\n"
     ]
    }
   ],
   "source": [
    "# Checking alpha range of the model\n",
    "print('Alpha: ', pipe_l.named_steps['lcv'].alpha_)\n",
    "print('Alpha range:', min(pipe_l.named_steps['lcv'].alphas_), max(pipe_l.named_steps['lcv'].alphas_))"
   ]
  },
  {
   "cell_type": "code",
   "execution_count": 91,
   "metadata": {},
   "outputs": [
    {
     "name": "stdout",
     "output_type": "stream",
     "text": [
      "Test score: 0.9174125999607348\n",
      "Train score: 0.9592672926098758\n"
     ]
    },
    {
     "name": "stderr",
     "output_type": "stream",
     "text": [
      "/Users/dmitriy/anaconda3/lib/python3.6/site-packages/sklearn/model_selection/_split.py:2053: FutureWarning: You should specify a value for 'cv' instead of relying on the default value. The default value will change from 3 to 5 in version 0.22.\n",
      "  warnings.warn(CV_WARNING, FutureWarning)\n"
     ]
    },
    {
     "name": "stdout",
     "output_type": "stream",
     "text": [
      "Cross_Val score: 0.9412810443573084\n"
     ]
    }
   ],
   "source": [
    "# Testing the r^2 of the model\n",
    "print('Test score:', pipe_l.score(X_test_l, y_test_l))\n",
    "print('Train score:', pipe_l.score(X_train_l, y_train_l))\n",
    "print('Cross_Val score:', cross_val_score(pipe_l, X_train_l, y_train_l).mean())"
   ]
  },
  {
   "cell_type": "code",
   "execution_count": 92,
   "metadata": {},
   "outputs": [
    {
     "data": {
      "text/plain": [
       "18097.103095194947"
      ]
     },
     "execution_count": 92,
     "metadata": {},
     "output_type": "execute_result"
    }
   ],
   "source": [
    "# Testing mean squared error\n",
    "preds_l = np.exp(pipe_l.predict(X_test_l))\n",
    "np.sqrt(mean_squared_error(np.exp(y_test_l), preds_l))"
   ]
  },
  {
   "cell_type": "code",
   "execution_count": 94,
   "metadata": {},
   "outputs": [
    {
     "name": "stderr",
     "output_type": "stream",
     "text": [
      "/Users/dmitriy/anaconda3/lib/python3.6/site-packages/ipykernel_launcher.py:5: SettingWithCopyWarning: \n",
      "A value is trying to be set on a copy of a slice from a DataFrame.\n",
      "Try using .loc[row_indexer,col_indexer] = value instead\n",
      "\n",
      "See the caveats in the documentation: http://pandas.pydata.org/pandas-docs/stable/indexing.html#indexing-view-versus-copy\n",
      "  \"\"\"\n"
     ]
    },
    {
     "data": {
      "text/html": [
       "<div>\n",
       "<style scoped>\n",
       "    .dataframe tbody tr th:only-of-type {\n",
       "        vertical-align: middle;\n",
       "    }\n",
       "\n",
       "    .dataframe tbody tr th {\n",
       "        vertical-align: top;\n",
       "    }\n",
       "\n",
       "    .dataframe thead th {\n",
       "        text-align: right;\n",
       "    }\n",
       "</style>\n",
       "<table border=\"1\" class=\"dataframe\">\n",
       "  <thead>\n",
       "    <tr style=\"text-align: right;\">\n",
       "      <th></th>\n",
       "      <th>id</th>\n",
       "      <th>SalePrice</th>\n",
       "    </tr>\n",
       "  </thead>\n",
       "  <tbody>\n",
       "    <tr>\n",
       "      <th>0</th>\n",
       "      <td>2658</td>\n",
       "      <td>107463.306422</td>\n",
       "    </tr>\n",
       "    <tr>\n",
       "      <th>1</th>\n",
       "      <td>2718</td>\n",
       "      <td>147456.322077</td>\n",
       "    </tr>\n",
       "    <tr>\n",
       "      <th>2</th>\n",
       "      <td>2414</td>\n",
       "      <td>220735.888999</td>\n",
       "    </tr>\n",
       "    <tr>\n",
       "      <th>3</th>\n",
       "      <td>1989</td>\n",
       "      <td>105615.807797</td>\n",
       "    </tr>\n",
       "    <tr>\n",
       "      <th>4</th>\n",
       "      <td>625</td>\n",
       "      <td>172733.786766</td>\n",
       "    </tr>\n",
       "  </tbody>\n",
       "</table>\n",
       "</div>"
      ],
      "text/plain": [
       "     id      SalePrice\n",
       "0  2658  107463.306422\n",
       "1  2718  147456.322077\n",
       "2  2414  220735.888999\n",
       "3  1989  105615.807797\n",
       "4   625  172733.786766"
      ]
     },
     "execution_count": 94,
     "metadata": {},
     "output_type": "execute_result"
    }
   ],
   "source": [
    "X_final_l = test_poly[new_features]\n",
    "\n",
    "test['SalePrice'] = np.exp(pipe_l.predict(X_final_l))\n",
    "final_l = test[['id','SalePrice']]\n",
    "final_l['id'] = final_l['id'].astype('int')\n",
    "final_l.to_csv('datasets/lasso_features.csv', index=False)\n",
    "final_l.head()"
   ]
  },
  {
   "cell_type": "markdown",
   "metadata": {},
   "source": [
    "### II. 2. Running Ridge Regression Model"
   ]
  },
  {
   "cell_type": "code",
   "execution_count": 96,
   "metadata": {},
   "outputs": [],
   "source": [
    "Xr = df_poly[new_features]\n",
    "yr = np.log(df_poly['saleprice'])\n",
    "X_train_r, X_test_r, y_train_r, y_test_r = train_test_split(Xr, yr)"
   ]
  },
  {
   "cell_type": "code",
   "execution_count": 102,
   "metadata": {},
   "outputs": [],
   "source": [
    "ridge_alphas = np.logspace(0,5,1000)"
   ]
  },
  {
   "cell_type": "code",
   "execution_count": 103,
   "metadata": {},
   "outputs": [],
   "source": [
    "pipe_r = Pipeline([\n",
    "    ('ss', StandardScaler()),\n",
    "    ('rcv', RidgeCV(ridge_alphas, cv = 3))\n",
    "])"
   ]
  },
  {
   "cell_type": "code",
   "execution_count": 104,
   "metadata": {},
   "outputs": [
    {
     "data": {
      "text/plain": [
       "Pipeline(memory=None,\n",
       "     steps=[('ss', StandardScaler(copy=True, with_mean=True, with_std=True)), ('rcv', RidgeCV(alphas=array([1.00000e+00, 1.01159e+00, ..., 9.88542e+04, 1.00000e+05]),\n",
       "    cv=3, fit_intercept=True, gcv_mode=None, normalize=False, scoring=None,\n",
       "    store_cv_values=False))])"
      ]
     },
     "execution_count": 104,
     "metadata": {},
     "output_type": "execute_result"
    }
   ],
   "source": [
    "pipe_r.fit(X_train_r, y_train_r)"
   ]
  },
  {
   "cell_type": "code",
   "execution_count": 108,
   "metadata": {},
   "outputs": [
    {
     "name": "stdout",
     "output_type": "stream",
     "text": [
      "Alpha: 94.83681866285923\n",
      "Alpha range: 1.0 100000.0\n"
     ]
    }
   ],
   "source": [
    "# Checking alpha range of the model\n",
    "print('Alpha:', pipe_r.named_steps['rcv'].alpha_)\n",
    "print('Alpha range:', min(pipe_r.named_steps['rcv'].alphas), max(pipe_r.named_steps['rcv'].alphas))"
   ]
  },
  {
   "cell_type": "code",
   "execution_count": 109,
   "metadata": {},
   "outputs": [
    {
     "name": "stdout",
     "output_type": "stream",
     "text": [
      "Test score:  0.9121292326499307\n",
      "Train score:  0.9606040989325488\n"
     ]
    },
    {
     "name": "stderr",
     "output_type": "stream",
     "text": [
      "/Users/dmitriy/anaconda3/lib/python3.6/site-packages/sklearn/model_selection/_split.py:2053: FutureWarning: You should specify a value for 'cv' instead of relying on the default value. The default value will change from 3 to 5 in version 0.22.\n",
      "  warnings.warn(CV_WARNING, FutureWarning)\n"
     ]
    },
    {
     "name": "stdout",
     "output_type": "stream",
     "text": [
      "Cross_Val score:  0.9408754626923783\n"
     ]
    }
   ],
   "source": [
    "# Testing the r^2 of the model\n",
    "print('Test score: ', pipe_r.score(X_test_r, y_test_r))\n",
    "print('Train score: ', pipe_r.score(X_train_r, y_train_r))\n",
    "print('Cross_Val score: ', cross_val_score(pipe_r, X_train_r, y_train_r).mean())"
   ]
  },
  {
   "cell_type": "code",
   "execution_count": 110,
   "metadata": {},
   "outputs": [
    {
     "data": {
      "text/plain": [
       "18932.673186223215"
      ]
     },
     "execution_count": 110,
     "metadata": {},
     "output_type": "execute_result"
    }
   ],
   "source": [
    "# Testing mean squared error\n",
    "preds_r = np.exp(pipe_r.predict(X_test_r))\n",
    "np.sqrt(mean_squared_error(np.exp(y_test_r), preds_r))"
   ]
  },
  {
   "cell_type": "code",
   "execution_count": 115,
   "metadata": {},
   "outputs": [
    {
     "name": "stdout",
     "output_type": "stream",
     "text": [
      "<class 'pandas.core.frame.DataFrame'>\n",
      "RangeIndex: 879 entries, 0 to 878\n",
      "Data columns (total 2 columns):\n",
      "id           879 non-null int64\n",
      "SalePrice    879 non-null float64\n",
      "dtypes: float64(1), int64(1)\n",
      "memory usage: 13.8 KB\n"
     ]
    },
    {
     "name": "stderr",
     "output_type": "stream",
     "text": [
      "/Users/dmitriy/anaconda3/lib/python3.6/site-packages/ipykernel_launcher.py:5: SettingWithCopyWarning: \n",
      "A value is trying to be set on a copy of a slice from a DataFrame.\n",
      "Try using .loc[row_indexer,col_indexer] = value instead\n",
      "\n",
      "See the caveats in the documentation: http://pandas.pydata.org/pandas-docs/stable/indexing.html#indexing-view-versus-copy\n",
      "  \"\"\"\n"
     ]
    }
   ],
   "source": [
    "X_final_r = test_poly[new_features]\n",
    "\n",
    "test['SalePrice'] = np.exp(pipe_r.predict(X_final_r))\n",
    "final_r = test[['id','SalePrice']]\n",
    "final_r['id'] = final_r['id'].astype('int')\n",
    "final_r.to_csv('datasets/ridge_features.csv', index=False)\n",
    "final_r.info()"
   ]
  },
  {
   "cell_type": "markdown",
   "metadata": {},
   "source": [
    "### Visualizing Errors"
   ]
  },
  {
   "cell_type": "code",
   "execution_count": 117,
   "metadata": {},
   "outputs": [
    {
     "data": {
      "image/png": "[encoded data removed]",
      "text/plain": [
       "<Figure size 720x576 with 1 Axes>"
      ]
     },
     "metadata": {
      "needs_background": "light"
     },
     "output_type": "display_data"
    }
   ],
   "source": [
    "plt.figure(figsize = (10,8))\n",
    "sns.scatterplot(x = np.exp(y_test_r), y= preds_r)\n",
    "plt.title('Sale Price - Actual vs Predictions', fontsize = 20)\n",
    "plt.ylabel('Sale Price - Estimated', fontsize = 16)\n",
    "plt.xlabel('Sale Price - Actual', fontsize = 16)\n",
    "plt.xticks(fontsize = 13)\n",
    "plt.yticks(fontsize = 13)\n",
    "plt.grid(True, linewidth=0.5, linestyle = '-', c='black', alpha = 0.1)\n",
    "\n",
    "plt.plot(np.unique(np.exp(y_test_r)), \n",
    "        np.poly1d(np.polyfit(np.exp(y_test_r), preds_r, 1))(np.unique(np.exp(y_test_r))), c = 'r')\n",
    "plt.savefig(\"Images/actual_vs_forecast\")"
   ]
  },
  {
   "cell_type": "code",
   "execution_count": 123,
   "metadata": {},
   "outputs": [
    {
     "data": {
      "image/png": "[encoded data removed]",
      "text/plain": [
       "<Figure size 576x576 with 1 Axes>"
      ]
     },
     "metadata": {
      "needs_background": "light"
     },
     "output_type": "display_data"
    }
   ],
   "source": [
    "plt.figure(figsize=(8,8))\n",
    "\n",
    "errors = np.exp(y_test_l) - preds_l\n",
    "plt.hist(errors, bins = 20);\n",
    "plt.title('Distribution of Errors', fontsize = 20)\n",
    "plt.vlines(errors.mean(), ymin = 0, ymax = 159, color = 'r')\n",
    "plt.xlabel('Pricing Error', fontsize = 16)\n",
    "plt.xlabel('Error Count', fontsize = 16)\n",
    "plt.savefig(\"Images/error_distribution\")\n"
   ]
  },
  {
   "cell_type": "markdown",
   "metadata": {},
   "source": [
    "### Interpreting Coefficients"
   ]
  },
  {
   "cell_type": "code",
   "execution_count": 124,
   "metadata": {},
   "outputs": [
    {
     "data": {
      "text/html": [
       "<div>\n",
       "<style scoped>\n",
       "    .dataframe tbody tr th:only-of-type {\n",
       "        vertical-align: middle;\n",
       "    }\n",
       "\n",
       "    .dataframe tbody tr th {\n",
       "        vertical-align: top;\n",
       "    }\n",
       "\n",
       "    .dataframe thead th {\n",
       "        text-align: right;\n",
       "    }\n",
       "</style>\n",
       "<table border=\"1\" class=\"dataframe\">\n",
       "  <thead>\n",
       "    <tr style=\"text-align: right;\">\n",
       "      <th></th>\n",
       "      <th>variable</th>\n",
       "      <th>coefs</th>\n",
       "    </tr>\n",
       "  </thead>\n",
       "  <tbody>\n",
       "    <tr>\n",
       "      <th>1860</th>\n",
       "      <td>overall_cond functional_Sal</td>\n",
       "      <td>-0.033104</td>\n",
       "    </tr>\n",
       "    <tr>\n",
       "      <th>35547</th>\n",
       "      <td>bsmtfin_type_1_Unf heating_qc_TA</td>\n",
       "      <td>-0.010784</td>\n",
       "    </tr>\n",
       "    <tr>\n",
       "      <th>6094</th>\n",
       "      <td>kitchen_abvgr years_since_built_sqrt</td>\n",
       "      <td>-0.010602</td>\n",
       "    </tr>\n",
       "    <tr>\n",
       "      <th>8093</th>\n",
       "      <td>enclosed_porch ms_zoning_C (all)</td>\n",
       "      <td>-0.008765</td>\n",
       "    </tr>\n",
       "    <tr>\n",
       "      <th>15948</th>\n",
       "      <td>ms_zoning_C (all) heating_qc_TA</td>\n",
       "      <td>-0.008474</td>\n",
       "    </tr>\n",
       "    <tr>\n",
       "      <th>1841</th>\n",
       "      <td>overall_cond heating_Grav</td>\n",
       "      <td>-0.007730</td>\n",
       "    </tr>\n",
       "    <tr>\n",
       "      <th>33642</th>\n",
       "      <td>exter_cond_Fa garage_cond_Fa</td>\n",
       "      <td>-0.007580</td>\n",
       "    </tr>\n",
       "    <tr>\n",
       "      <th>33656</th>\n",
       "      <td>exter_cond_Fa ms_subclass_30</td>\n",
       "      <td>-0.007172</td>\n",
       "    </tr>\n",
       "    <tr>\n",
       "      <th>34434</th>\n",
       "      <td>bsmt_qual_Fa garage_cond_Fa</td>\n",
       "      <td>-0.007030</td>\n",
       "    </tr>\n",
       "    <tr>\n",
       "      <th>16945</th>\n",
       "      <td>ms_zoning_RM exter_qual_TA</td>\n",
       "      <td>-0.006419</td>\n",
       "    </tr>\n",
       "    <tr>\n",
       "      <th>15862</th>\n",
       "      <td>ms_zoning_C (all) house_style_1Story</td>\n",
       "      <td>-0.006026</td>\n",
       "    </tr>\n",
       "    <tr>\n",
       "      <th>33627</th>\n",
       "      <td>exter_cond_Fa functional_Mod</td>\n",
       "      <td>-0.005637</td>\n",
       "    </tr>\n",
       "    <tr>\n",
       "      <th>10291</th>\n",
       "      <td>large_living_area neighborhood_Veenker</td>\n",
       "      <td>-0.005621</td>\n",
       "    </tr>\n",
       "    <tr>\n",
       "      <th>16970</th>\n",
       "      <td>ms_zoning_RM bsmtfin_type_1_Unf</td>\n",
       "      <td>-0.005211</td>\n",
       "    </tr>\n",
       "    <tr>\n",
       "      <th>17036</th>\n",
       "      <td>ms_zoning_RM ms_subclass_160</td>\n",
       "      <td>-0.005171</td>\n",
       "    </tr>\n",
       "    <tr>\n",
       "      <th>16977</th>\n",
       "      <td>ms_zoning_RM heating_Grav</td>\n",
       "      <td>-0.004751</td>\n",
       "    </tr>\n",
       "    <tr>\n",
       "      <th>3977</th>\n",
       "      <td>1st_flr_sf functional_Sev</td>\n",
       "      <td>-0.004720</td>\n",
       "    </tr>\n",
       "    <tr>\n",
       "      <th>23569</th>\n",
       "      <td>neighborhood_OldTown ms_subclass_30</td>\n",
       "      <td>-0.004610</td>\n",
       "    </tr>\n",
       "    <tr>\n",
       "      <th>36380</th>\n",
       "      <td>heating_qc_TA garage_cond_Fa</td>\n",
       "      <td>-0.004419</td>\n",
       "    </tr>\n",
       "    <tr>\n",
       "      <th>27858</th>\n",
       "      <td>house_style_1Story bsmt_cond_Fa</td>\n",
       "      <td>-0.004137</td>\n",
       "    </tr>\n",
       "  </tbody>\n",
       "</table>\n",
       "</div>"
      ],
      "text/plain": [
       "                                     variable     coefs\n",
       "1860              overall_cond functional_Sal -0.033104\n",
       "35547        bsmtfin_type_1_Unf heating_qc_TA -0.010784\n",
       "6094     kitchen_abvgr years_since_built_sqrt -0.010602\n",
       "8093         enclosed_porch ms_zoning_C (all) -0.008765\n",
       "15948         ms_zoning_C (all) heating_qc_TA -0.008474\n",
       "1841                overall_cond heating_Grav -0.007730\n",
       "33642            exter_cond_Fa garage_cond_Fa -0.007580\n",
       "33656            exter_cond_Fa ms_subclass_30 -0.007172\n",
       "34434             bsmt_qual_Fa garage_cond_Fa -0.007030\n",
       "16945              ms_zoning_RM exter_qual_TA -0.006419\n",
       "15862    ms_zoning_C (all) house_style_1Story -0.006026\n",
       "33627            exter_cond_Fa functional_Mod -0.005637\n",
       "10291  large_living_area neighborhood_Veenker -0.005621\n",
       "16970         ms_zoning_RM bsmtfin_type_1_Unf -0.005211\n",
       "17036            ms_zoning_RM ms_subclass_160 -0.005171\n",
       "16977               ms_zoning_RM heating_Grav -0.004751\n",
       "3977                1st_flr_sf functional_Sev -0.004720\n",
       "23569     neighborhood_OldTown ms_subclass_30 -0.004610\n",
       "36380            heating_qc_TA garage_cond_Fa -0.004419\n",
       "27858         house_style_1Story bsmt_cond_Fa -0.004137"
      ]
     },
     "execution_count": 124,
     "metadata": {},
     "output_type": "execute_result"
    }
   ],
   "source": [
    "final_coefs = pd.DataFrame({\n",
    "    'variable': X_train_r.columns,\n",
    "    'coefs': pipe_r.named_steps['rcv'].coef_\n",
    "})\n",
    "coefs.sort_values(by= 'coefs').head(20)"
   ]
  },
  {
   "cell_type": "code",
   "execution_count": 125,
   "metadata": {},
   "outputs": [
    {
     "data": {
      "text/html": [
       "<div>\n",
       "<style scoped>\n",
       "    .dataframe tbody tr th:only-of-type {\n",
       "        vertical-align: middle;\n",
       "    }\n",
       "\n",
       "    .dataframe tbody tr th {\n",
       "        vertical-align: top;\n",
       "    }\n",
       "\n",
       "    .dataframe thead th {\n",
       "        text-align: right;\n",
       "    }\n",
       "</style>\n",
       "<table border=\"1\" class=\"dataframe\">\n",
       "  <thead>\n",
       "    <tr style=\"text-align: right;\">\n",
       "      <th></th>\n",
       "      <th>variable</th>\n",
       "      <th>coefs</th>\n",
       "    </tr>\n",
       "  </thead>\n",
       "  <tbody>\n",
       "    <tr>\n",
       "      <th>1409</th>\n",
       "      <td>overall_qual lot_area_log</td>\n",
       "      <td>0.091551</td>\n",
       "    </tr>\n",
       "    <tr>\n",
       "      <th>1953</th>\n",
       "      <td>year_built gr_liv_area_log</td>\n",
       "      <td>0.079870</td>\n",
       "    </tr>\n",
       "    <tr>\n",
       "      <th>1645</th>\n",
       "      <td>overall_cond gr_liv_area</td>\n",
       "      <td>0.037363</td>\n",
       "    </tr>\n",
       "    <tr>\n",
       "      <th>1641</th>\n",
       "      <td>overall_cond total_bsmt_sf</td>\n",
       "      <td>0.029754</td>\n",
       "    </tr>\n",
       "    <tr>\n",
       "      <th>1904</th>\n",
       "      <td>year_built year_remod/add</td>\n",
       "      <td>0.023927</td>\n",
       "    </tr>\n",
       "    <tr>\n",
       "      <th>3717</th>\n",
       "      <td>total_bsmt_sf functional_Typ</td>\n",
       "      <td>0.013607</td>\n",
       "    </tr>\n",
       "    <tr>\n",
       "      <th>12531</th>\n",
       "      <td>lot_area_log gr_liv_area_log</td>\n",
       "      <td>0.013556</td>\n",
       "    </tr>\n",
       "    <tr>\n",
       "      <th>2808</th>\n",
       "      <td>bsmtfin_sf_1 condition_1_Norm</td>\n",
       "      <td>0.013281</td>\n",
       "    </tr>\n",
       "    <tr>\n",
       "      <th>3501</th>\n",
       "      <td>total_bsmt_sf bsmt_full_bath</td>\n",
       "      <td>0.011764</td>\n",
       "    </tr>\n",
       "    <tr>\n",
       "      <th>4569</th>\n",
       "      <td>gr_liv_area years_since_built_sqrt_new</td>\n",
       "      <td>0.010887</td>\n",
       "    </tr>\n",
       "    <tr>\n",
       "      <th>1655</th>\n",
       "      <td>overall_cond garage_cars</td>\n",
       "      <td>0.010180</td>\n",
       "    </tr>\n",
       "    <tr>\n",
       "      <th>2742</th>\n",
       "      <td>bsmtfin_sf_1 years_since_built_sqrt_new</td>\n",
       "      <td>0.009711</td>\n",
       "    </tr>\n",
       "    <tr>\n",
       "      <th>12694</th>\n",
       "      <td>lot_area_log central_air_Y</td>\n",
       "      <td>0.009549</td>\n",
       "    </tr>\n",
       "    <tr>\n",
       "      <th>11887</th>\n",
       "      <td>years_since_bgarage_yr_blt_sqrt neighborhood_C...</td>\n",
       "      <td>0.009252</td>\n",
       "    </tr>\n",
       "    <tr>\n",
       "      <th>4708</th>\n",
       "      <td>gr_liv_area foundation_PConc</td>\n",
       "      <td>0.009251</td>\n",
       "    </tr>\n",
       "    <tr>\n",
       "      <th>4566</th>\n",
       "      <td>gr_liv_area has_fireplace</td>\n",
       "      <td>0.008595</td>\n",
       "    </tr>\n",
       "    <tr>\n",
       "      <th>2218</th>\n",
       "      <td>year_remod/add 1st_flr_sf_log</td>\n",
       "      <td>0.008537</td>\n",
       "    </tr>\n",
       "    <tr>\n",
       "      <th>7544</th>\n",
       "      <td>garage_area paved_drive_Y</td>\n",
       "      <td>0.008387</td>\n",
       "    </tr>\n",
       "    <tr>\n",
       "      <th>7513</th>\n",
       "      <td>garage_area central_air_Y</td>\n",
       "      <td>0.008251</td>\n",
       "    </tr>\n",
       "    <tr>\n",
       "      <th>4755</th>\n",
       "      <td>gr_liv_area functional_Typ</td>\n",
       "      <td>0.008055</td>\n",
       "    </tr>\n",
       "  </tbody>\n",
       "</table>\n",
       "</div>"
      ],
      "text/plain": [
       "                                                variable     coefs\n",
       "1409                           overall_qual lot_area_log  0.091551\n",
       "1953                          year_built gr_liv_area_log  0.079870\n",
       "1645                            overall_cond gr_liv_area  0.037363\n",
       "1641                          overall_cond total_bsmt_sf  0.029754\n",
       "1904                           year_built year_remod/add  0.023927\n",
       "3717                        total_bsmt_sf functional_Typ  0.013607\n",
       "12531                       lot_area_log gr_liv_area_log  0.013556\n",
       "2808                       bsmtfin_sf_1 condition_1_Norm  0.013281\n",
       "3501                        total_bsmt_sf bsmt_full_bath  0.011764\n",
       "4569              gr_liv_area years_since_built_sqrt_new  0.010887\n",
       "1655                            overall_cond garage_cars  0.010180\n",
       "2742             bsmtfin_sf_1 years_since_built_sqrt_new  0.009711\n",
       "12694                         lot_area_log central_air_Y  0.009549\n",
       "11887  years_since_bgarage_yr_blt_sqrt neighborhood_C...  0.009252\n",
       "4708                        gr_liv_area foundation_PConc  0.009251\n",
       "4566                           gr_liv_area has_fireplace  0.008595\n",
       "2218                       year_remod/add 1st_flr_sf_log  0.008537\n",
       "7544                           garage_area paved_drive_Y  0.008387\n",
       "7513                           garage_area central_air_Y  0.008251\n",
       "4755                          gr_liv_area functional_Typ  0.008055"
      ]
     },
     "execution_count": 125,
     "metadata": {},
     "output_type": "execute_result"
    }
   ],
   "source": [
    "coefs.sort_values(by= 'coefs', ascending = False).head(20)"
   ]
  },
  {
   "cell_type": "code",
   "execution_count": 127,
   "metadata": {},
   "outputs": [],
   "source": [
    "final_coefs.to_csv('datasets/interpreting_results.csv')"
   ]
  },
  {
   "cell_type": "code",
   "execution_count": null,
   "metadata": {},
   "outputs": [],
   "source": []
  }
 ],
 "metadata": {
  "kernelspec": {
   "display_name": "Python 3",
   "language": "python",
   "name": "python3"
  },
  "language_info": {
   "codemirror_mode": {
    "name": "ipython",
    "version": 3
   },
   "file_extension": ".py",
   "mimetype": "text/x-python",
   "name": "python",
   "nbconvert_exporter": "python",
   "pygments_lexer": "ipython3",
   "version": "3.6.6"
  }
 },
 "nbformat": 4,
 "nbformat_minor": 2
}
